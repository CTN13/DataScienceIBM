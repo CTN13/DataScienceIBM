{
 "cells": [
  {
   "cell_type": "markdown",
   "id": "5c14c600-cbd4-497a-81b7-23fe1e135b92",
   "metadata": {},
   "source": [
    "# Data Science Tools and Ecosystem"
   ]
  },
  {
   "cell_type": "markdown",
   "id": "7ca8b6bc-fc4c-4dab-8778-105afcb57da5",
   "metadata": {},
   "source": [
    "In this notebook, Data Science Tools and Ecosystem are summarized.\n",
    "\n",
    "**Objectives:**\n",
    "* List of popular languages used by Data Scientists\n",
    "* The most common libraries used by Data Scientists\n",
    "* Examples of arithmetic expressions in Python\n",
    "\n",
    "## Author\n",
    "Cristian"
   ]
  },
  {
   "cell_type": "markdown",
   "id": "b9459d5f-f066-4c61-81c6-56471d0dad5d",
   "metadata": {},
   "source": [
    "Some of the popular languages that Data Scientists use are:\n",
    "1. Julia\n",
    "2. Python\n",
    "3. R\n",
    "4. Java\n",
    "5. Scala"
   ]
  },
  {
   "cell_type": "markdown",
   "id": "842830af-e182-4385-9bf3-629b67044d86",
   "metadata": {},
   "source": [
    "Some of the commonly used libraries used by Data Scientists include:\n",
    "1. Numpy\n",
    "2. Pandas\n",
    "3. Matplotlib\n",
    "4. Seaborn\n",
    "5. Plotly"
   ]
  },
  {
   "cell_type": "markdown",
   "id": "ff0fd8a4-21ab-4e33-b9d7-c332bd76b754",
   "metadata": {},
   "source": [
    "|Data Science Tools|\n",
    "|-----|\n",
    "|Git|\n",
    "|Apache Subversion|\n",
    "|Eclipse IDE|"
   ]
  },
  {
   "cell_type": "markdown",
   "id": "9746b99e-96ab-4961-9c49-b0b1ee8d49de",
   "metadata": {},
   "source": [
    "### Below are a few examples of evaluating arithmetic expressions in Python"
   ]
  },
  {
   "cell_type": "markdown",
   "id": "7fa2e05e-bf55-44ef-ab95-ee71ae631d50",
   "metadata": {},
   "source": [
    "This a simple arithmetic expression to mutiply then add integers"
   ]
  },
  {
   "cell_type": "code",
   "execution_count": 1,
   "id": "0b13668a-a67c-45ac-a1b6-9e7edbf6f9fc",
   "metadata": {},
   "outputs": [
    {
     "data": {
      "text/plain": [
       "17"
      ]
     },
     "execution_count": 1,
     "metadata": {},
     "output_type": "execute_result"
    }
   ],
   "source": [
    "(3*4)+5"
   ]
  },
  {
   "cell_type": "markdown",
   "id": "57920da9-198b-41ad-8bba-4266b72a06a5",
   "metadata": {},
   "source": [
    "This will convert 200 minutes to hours by diving by 60"
   ]
  },
  {
   "cell_type": "code",
   "execution_count": 11,
   "id": "5e70388c-3c3b-4221-a914-61c375bf3f70",
   "metadata": {},
   "outputs": [
    {
     "name": "stdout",
     "output_type": "stream",
     "text": [
      "3 20\n"
     ]
    }
   ],
   "source": [
    "minutes=int(200)\n",
    "hours=int(200/60)\n",
    "minutes=int(minutes%60)\n",
    "print(hours, minutes)"
   ]
  },
  {
   "cell_type": "code",
   "execution_count": null,
   "id": "b3c79be8-3a59-4c1d-8b19-578e8dc784ab",
   "metadata": {},
   "outputs": [],
   "source": []
  }
 ],
 "metadata": {
  "kernelspec": {
   "display_name": "Python 3 (ipykernel)",
   "language": "python",
   "name": "python3"
  },
  "language_info": {
   "codemirror_mode": {
    "name": "ipython",
    "version": 3
   },
   "file_extension": ".py",
   "mimetype": "text/x-python",
   "name": "python",
   "nbconvert_exporter": "python",
   "pygments_lexer": "ipython3",
   "version": "3.12.4"
  }
 },
 "nbformat": 4,
 "nbformat_minor": 5
}
